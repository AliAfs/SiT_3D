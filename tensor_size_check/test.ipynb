{
 "cells": [
  {
   "cell_type": "code",
   "execution_count": 5,
   "metadata": {},
   "outputs": [],
   "source": [
    "from torch import nn\n",
    "from torchsummary import summary"
   ]
  },
  {
   "cell_type": "code",
   "execution_count": 53,
   "metadata": {},
   "outputs": [],
   "source": [
    "model = nn.Sequential(\n",
    "    nn.ConvTranspose3d(192, 64, kernel_size=(3,3,3), stride=(2,2,2), padding=(2,0,0)),\n",
    "    nn.ReLU(),\n",
    "    nn.ConvTranspose3d(64, 32, kernel_size=(5,5,5), stride=(2,2,2), padding=(2,0,0)),\n",
    "    nn.ReLU(),\n",
    "    nn.ConvTranspose3d(32, 1, kernel_size=(1,6,6), stride=(1,3,3), padding=(0,1,1))\n",
    ")"
   ]
  },
  {
   "cell_type": "code",
   "execution_count": 54,
   "metadata": {},
   "outputs": [
    {
     "name": "stdout",
     "output_type": "stream",
     "text": [
      "----------------------------------------------------------------\n",
      "        Layer (type)               Output Shape         Param #\n",
      "================================================================\n",
      "   ConvTranspose3d-1         [-1, 64, 11, 9, 9]         331,840\n",
      "              ReLU-2         [-1, 64, 11, 9, 9]               0\n",
      "   ConvTranspose3d-3       [-1, 32, 21, 21, 21]         256,032\n",
      "              ReLU-4       [-1, 32, 21, 21, 21]               0\n",
      "   ConvTranspose3d-5        [-1, 1, 21, 64, 64]           1,153\n",
      "================================================================\n",
      "Total params: 589,025\n",
      "Trainable params: 589,025\n",
      "Non-trainable params: 0\n",
      "----------------------------------------------------------------\n",
      "Input size (MB): 0.08\n",
      "Forward/backward pass size (MB): 6.05\n",
      "Params size (MB): 2.25\n",
      "Estimated Total Size (MB): 8.38\n",
      "----------------------------------------------------------------\n"
     ]
    }
   ],
   "source": [
    "summary(model, (192, 7, 4, 4))"
   ]
  },
  {
   "cell_type": "code",
   "execution_count": null,
   "metadata": {},
   "outputs": [],
   "source": []
  }
 ],
 "metadata": {
  "kernelspec": {
   "display_name": "nuplan",
   "language": "python",
   "name": "python3"
  },
  "language_info": {
   "codemirror_mode": {
    "name": "ipython",
    "version": 3
   },
   "file_extension": ".py",
   "mimetype": "text/x-python",
   "name": "python",
   "nbconvert_exporter": "python",
   "pygments_lexer": "ipython3",
   "version": "3.9.16"
  },
  "orig_nbformat": 4
 },
 "nbformat": 4,
 "nbformat_minor": 2
}
