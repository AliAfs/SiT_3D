{
 "cells": [
  {
   "cell_type": "code",
   "execution_count": 2,
   "metadata": {},
   "outputs": [],
   "source": [
    "from torch import nn\n",
    "from torchsummary import summary"
   ]
  },
  {
   "cell_type": "code",
   "execution_count": 3,
   "metadata": {},
   "outputs": [],
   "source": [
    "in_dim = 768\n",
    "model =nn.Sequential(\n",
    "                nn.ConvTranspose3d(in_dim, in_dim // 2, kernel_size=(3,3,3), stride=(2,2,2), padding=(1,1,1)),\n",
    "                nn.ReLU(),\n",
    "                nn.ConvTranspose3d(in_dim // 2, in_dim // 4, kernel_size=(3,3,3), stride=(2,2,2), padding=(0,0,0)),\n",
    "                nn.ReLU(),\n",
    "                nn.ConvTranspose3d(in_dim // 4, in_dim // 8, kernel_size=(4,4,4), stride=(2,2,2), padding=(0,0,0)),\n",
    "                nn.ReLU(),\n",
    "                nn.ConvTranspose3d(in_dim // 8, 1, kernel_size=(1,1,1)),\n",
    "            )"
   ]
  },
  {
   "cell_type": "code",
   "execution_count": 4,
   "metadata": {},
   "outputs": [
    {
     "name": "stdout",
     "output_type": "stream",
     "text": [
      "----------------------------------------------------------------\n",
      "        Layer (type)               Output Shape         Param #\n",
      "================================================================\n",
      "   ConvTranspose3d-1      [-1, 384, 15, 31, 31]       7,963,008\n",
      "              ReLU-2      [-1, 384, 15, 31, 31]               0\n",
      "   ConvTranspose3d-3      [-1, 192, 31, 63, 63]       1,990,848\n",
      "              ReLU-4      [-1, 192, 31, 63, 63]               0\n",
      "   ConvTranspose3d-5     [-1, 96, 64, 128, 128]       1,179,744\n",
      "              ReLU-6     [-1, 96, 64, 128, 128]               0\n",
      "   ConvTranspose3d-7      [-1, 1, 64, 128, 128]              97\n",
      "================================================================\n",
      "Total params: 11,133,697\n",
      "Trainable params: 11,133,697\n",
      "Non-trainable params: 0\n",
      "----------------------------------------------------------------\n",
      "Input size (MB): 6.00\n",
      "Forward/backward pass size (MB): 1988.93\n",
      "Params size (MB): 42.47\n",
      "Estimated Total Size (MB): 2037.40\n",
      "----------------------------------------------------------------\n"
     ]
    }
   ],
   "source": [
    "summary(model, (768, 8, 16, 16))"
   ]
  },
  {
   "cell_type": "code",
   "execution_count": 3,
   "metadata": {},
   "outputs": [],
   "source": [
    "in_dim = 768\n",
    "model = nn.Sequential(\n",
    "            nn.Conv3d(in_dim, in_dim // 2, kernel_size=3, stride=1, padding=1),\n",
    "            nn.InstanceNorm3d(in_dim // 2),\n",
    "            nn.LeakyReLU(),\n",
    "            nn.Upsample(scale_factor=2, mode=\"trilinear\", align_corners=False),\n",
    "            nn.Conv3d(in_dim // 2, in_dim // 4, kernel_size=3, stride=1, padding=1),\n",
    "            nn.InstanceNorm3d(in_dim // 4),\n",
    "            nn.LeakyReLU(),\n",
    "            nn.Upsample(scale_factor=2, mode=\"trilinear\", align_corners=False),\n",
    "            nn.Conv3d(in_dim // 4, in_dim // 8, kernel_size=3, stride=1, padding=1),\n",
    "            nn.InstanceNorm3d(in_dim // 8),\n",
    "            nn.LeakyReLU(),\n",
    "            nn.Upsample(scale_factor=2, mode=\"trilinear\", align_corners=False),\n",
    "            nn.Conv3d(in_dim // 8, 1, kernel_size=3, stride=1, padding=1),\n",
    "            #nn.InstanceNorm3d(dim // 16),\n",
    "            #nn.LeakyReLU(),\n",
    "            #nn.Upsample(scale_factor=2, mode=\"trilinear\", align_corners=False),\n",
    "            #nn.Conv3d(dim // 16, dim // 16, kernel_size=3, stride=1, padding=1),\n",
    "            #nn.InstanceNorm3d(dim // 16),\n",
    "            #nn.LeakyReLU(),\n",
    "            #nn.Upsample(scale_factor=2, mode=\"trilinear\", align_corners=False),\n",
    "            #nn.Conv3d(dim // 16, args.in_channels, kernel_size=1, stride=1),\n",
    "        )"
   ]
  },
  {
   "cell_type": "code",
   "execution_count": 4,
   "metadata": {},
   "outputs": [
    {
     "name": "stdout",
     "output_type": "stream",
     "text": [
      "----------------------------------------------------------------\n",
      "        Layer (type)               Output Shape         Param #\n",
      "================================================================\n",
      "            Conv3d-1         [-1, 384, 8, 8, 8]       7,963,008\n",
      "    InstanceNorm3d-2         [-1, 384, 8, 8, 8]               0\n",
      "         LeakyReLU-3         [-1, 384, 8, 8, 8]               0\n",
      "          Upsample-4      [-1, 384, 16, 16, 16]               0\n",
      "            Conv3d-5      [-1, 192, 16, 16, 16]       1,990,848\n",
      "    InstanceNorm3d-6      [-1, 192, 16, 16, 16]               0\n",
      "         LeakyReLU-7      [-1, 192, 16, 16, 16]               0\n",
      "          Upsample-8      [-1, 192, 32, 32, 32]               0\n",
      "            Conv3d-9       [-1, 96, 32, 32, 32]         497,760\n",
      "   InstanceNorm3d-10       [-1, 96, 32, 32, 32]               0\n",
      "        LeakyReLU-11       [-1, 96, 32, 32, 32]               0\n",
      "         Upsample-12       [-1, 96, 64, 64, 64]               0\n",
      "           Conv3d-13        [-1, 1, 64, 64, 64]           2,593\n",
      "================================================================\n",
      "Total params: 10,454,209\n",
      "Trainable params: 10,454,209\n",
      "Non-trainable params: 0\n",
      "----------------------------------------------------------------\n",
      "Input size (MB): 1.50\n",
      "Forward/backward pass size (MB): 348.50\n",
      "Params size (MB): 39.88\n",
      "Estimated Total Size (MB): 389.88\n",
      "----------------------------------------------------------------\n"
     ]
    }
   ],
   "source": [
    "summary(model, (768, 8, 8, 8))"
   ]
  },
  {
   "cell_type": "code",
   "execution_count": 2,
   "metadata": {},
   "outputs": [],
   "source": [
    "model = nn.Sequential(\n",
    "            nn.ConvTranspose3d(768, 256, kernel_size=(3,3,3), stride=(2,2,2), padding=(1,1,1)),\n",
    "            nn.ReLU(),\n",
    "            nn.ConvTranspose3d(256, 128, kernel_size=(3,3,3), stride=(2,3,3), padding=(0,0,0)),\n",
    "            nn.ReLU(),\n",
    "            nn.ConvTranspose3d(128, 128, kernel_size=(2,4,4), stride=(2,3,3), padding=(2,4,4)),\n",
    "            nn.ReLU(),\n",
    "            nn.ConvTranspose3d(128, 1, kernel_size=(1,1,1))\n",
    "        )"
   ]
  },
  {
   "cell_type": "code",
   "execution_count": 3,
   "metadata": {},
   "outputs": [
    {
     "name": "stdout",
     "output_type": "stream",
     "text": [
      "----------------------------------------------------------------\n",
      "        Layer (type)               Output Shape         Param #\n",
      "================================================================\n",
      "   ConvTranspose3d-1      [-1, 256, 11, 15, 15]       5,308,672\n",
      "              ReLU-2      [-1, 256, 11, 15, 15]               0\n",
      "   ConvTranspose3d-3      [-1, 128, 23, 45, 45]         884,864\n",
      "              ReLU-4      [-1, 128, 23, 45, 45]               0\n",
      "   ConvTranspose3d-5    [-1, 128, 42, 128, 128]         524,416\n",
      "              ReLU-6    [-1, 128, 42, 128, 128]               0\n",
      "   ConvTranspose3d-7      [-1, 1, 42, 128, 128]             129\n",
      "================================================================\n",
      "Total params: 6,718,081\n",
      "Trainable params: 6,718,081\n",
      "Non-trainable params: 0\n",
      "----------------------------------------------------------------\n",
      "Input size (MB): 1.12\n",
      "Forward/backward pass size (MB): 1449.88\n",
      "Params size (MB): 25.63\n",
      "Estimated Total Size (MB): 1476.64\n",
      "----------------------------------------------------------------\n"
     ]
    }
   ],
   "source": [
    "summary(model, (768, 6, 8, 8))"
   ]
  },
  {
   "cell_type": "code",
   "execution_count": 3,
   "metadata": {},
   "outputs": [],
   "source": [
    "model = nn.Sequential(\n",
    "            nn.ConvTranspose3d(768, 256, kernel_size=(3,3,3), stride=(2,2,2), padding=(1,1,1)),\n",
    "            nn.ReLU(),\n",
    "            nn.ConvTranspose3d(256, 128, kernel_size=(3,3,3), stride=(2,3,3), padding=(0,0,0)),\n",
    "            nn.ReLU(),\n",
    "            nn.ConvTranspose3d(128, 128, kernel_size=(3,4,4), stride=(2,3,3), padding=(1,0,0)),\n",
    "            nn.ReLU(),\n",
    "            nn.ConvTranspose3d(128, 1, kernel_size=(1,1,1))\n",
    "        )"
   ]
  },
  {
   "cell_type": "code",
   "execution_count": 5,
   "metadata": {},
   "outputs": [
    {
     "name": "stdout",
     "output_type": "stream",
     "text": [
      "----------------------------------------------------------------\n",
      "        Layer (type)               Output Shape         Param #\n",
      "================================================================\n",
      "   ConvTranspose3d-1         [-1, 256, 5, 7, 7]       5,308,672\n",
      "              ReLU-2         [-1, 256, 5, 7, 7]               0\n",
      "   ConvTranspose3d-3      [-1, 128, 11, 21, 21]         884,864\n",
      "              ReLU-4      [-1, 128, 11, 21, 21]               0\n",
      "   ConvTranspose3d-5      [-1, 128, 21, 64, 64]         786,560\n",
      "              ReLU-6      [-1, 128, 21, 64, 64]               0\n",
      "   ConvTranspose3d-7        [-1, 1, 21, 64, 64]             129\n",
      "================================================================\n",
      "Total params: 6,980,225\n",
      "Trainable params: 6,980,225\n",
      "Non-trainable params: 0\n",
      "----------------------------------------------------------------\n",
      "Input size (MB): 0.14\n",
      "Forward/backward pass size (MB): 179.09\n",
      "Params size (MB): 26.63\n",
      "Estimated Total Size (MB): 205.86\n",
      "----------------------------------------------------------------\n"
     ]
    }
   ],
   "source": [
    "summary(model, (768, 3, 4, 4))"
   ]
  },
  {
   "cell_type": "code",
   "execution_count": 3,
   "metadata": {},
   "outputs": [],
   "source": [
    "model = nn.Sequential(\n",
    "    nn.ConvTranspose3d(768, 64, kernel_size=(3,3,3), stride=(2,2,2), padding=(2,0,0)),\n",
    "    nn.ReLU(),\n",
    "    nn.ConvTranspose3d(64, 32, kernel_size=(5,5,5), stride=(2,2,2), padding=(2,0,0)),\n",
    "    nn.ReLU(),\n",
    "    nn.ConvTranspose3d(32, 1, kernel_size=(1,6,6), stride=(1,3,3), padding=(0,1,1))\n",
    ")"
   ]
  },
  {
   "cell_type": "code",
   "execution_count": 5,
   "metadata": {},
   "outputs": [
    {
     "name": "stdout",
     "output_type": "stream",
     "text": [
      "----------------------------------------------------------------\n",
      "        Layer (type)               Output Shape         Param #\n",
      "================================================================\n",
      "   ConvTranspose3d-1         [-1, 64, 11, 9, 9]       1,327,168\n",
      "              ReLU-2         [-1, 64, 11, 9, 9]               0\n",
      "   ConvTranspose3d-3       [-1, 32, 21, 21, 21]         256,032\n",
      "              ReLU-4       [-1, 32, 21, 21, 21]               0\n",
      "   ConvTranspose3d-5        [-1, 1, 21, 64, 64]           1,153\n",
      "================================================================\n",
      "Total params: 1,584,353\n",
      "Trainable params: 1,584,353\n",
      "Non-trainable params: 0\n",
      "----------------------------------------------------------------\n",
      "Input size (MB): 0.33\n",
      "Forward/backward pass size (MB): 6.05\n",
      "Params size (MB): 6.04\n",
      "Estimated Total Size (MB): 12.42\n",
      "----------------------------------------------------------------\n"
     ]
    }
   ],
   "source": [
    "summary(model, (768, 7, 4, 4))"
   ]
  },
  {
   "cell_type": "markdown",
   "metadata": {},
   "source": [
    "---"
   ]
  },
  {
   "cell_type": "code",
   "execution_count": 6,
   "metadata": {},
   "outputs": [],
   "source": [
    "model = nn.Sequential(\n",
    "            nn.ConvTranspose3d(768, 256, kernel_size=(3,3,3), stride=(2,2,2), padding=(2,1,1)),\n",
    "            nn.ReLU(),\n",
    "            nn.ConvTranspose3d(256, 128, kernel_size=(3,3,3), stride=(2,3,3), padding=(1,0,0)),\n",
    "            nn.ReLU(),\n",
    "            nn.ConvTranspose3d(128, 1, kernel_size=(1,4,4), stride=(1,3,3), padding=(0,0,0))\n",
    "        )"
   ]
  },
  {
   "cell_type": "code",
   "execution_count": 7,
   "metadata": {},
   "outputs": [
    {
     "name": "stdout",
     "output_type": "stream",
     "text": [
      "----------------------------------------------------------------\n",
      "        Layer (type)               Output Shape         Param #\n",
      "================================================================\n",
      "   ConvTranspose3d-1        [-1, 256, 11, 7, 7]       5,308,672\n",
      "              ReLU-2        [-1, 256, 11, 7, 7]               0\n",
      "   ConvTranspose3d-3      [-1, 128, 21, 21, 21]         884,864\n",
      "              ReLU-4      [-1, 128, 21, 21, 21]               0\n",
      "   ConvTranspose3d-5        [-1, 1, 21, 64, 64]           2,049\n",
      "================================================================\n",
      "Total params: 6,195,585\n",
      "Trainable params: 6,195,585\n",
      "Non-trainable params: 0\n",
      "----------------------------------------------------------------\n",
      "Input size (MB): 0.33\n",
      "Forward/backward pass size (MB): 20.85\n",
      "Params size (MB): 23.63\n",
      "Estimated Total Size (MB): 44.81\n",
      "----------------------------------------------------------------\n"
     ]
    }
   ],
   "source": [
    "summary(model, (768, 7, 4, 4))"
   ]
  },
  {
   "cell_type": "markdown",
   "metadata": {},
   "source": [
    "---"
   ]
  },
  {
   "cell_type": "code",
   "execution_count": 2,
   "metadata": {},
   "outputs": [],
   "source": [
    "in_dim = 768\n",
    "model = nn.Sequential(\n",
    "            nn.ConvTranspose3d(in_dim, in_dim//2, kernel_size=(3,3,3), stride=(2,2,2), padding=(1,1,1)),\n",
    "            nn.ReLU(),\n",
    "            nn.ConvTranspose3d(in_dim//2, in_dim//4, kernel_size=(3,3,3), stride=(2,3,3)),\n",
    "            nn.ReLU(),\n",
    "            nn.ConvTranspose3d(in_dim//4, in_dim//4, kernel_size=(4,4,4), stride=(2,3,3)),\n",
    "            nn.ReLU(),\n",
    "            nn.ConvTranspose3d(in_dim//4, 1, kernel_size=(1,1,1), stride=(1,1,1))\n",
    "        )"
   ]
  },
  {
   "cell_type": "code",
   "execution_count": 3,
   "metadata": {},
   "outputs": [
    {
     "name": "stdout",
     "output_type": "stream",
     "text": [
      "----------------------------------------------------------------\n",
      "        Layer (type)               Output Shape         Param #\n",
      "================================================================\n",
      "   ConvTranspose3d-1         [-1, 384, 7, 7, 7]       7,963,008\n",
      "              ReLU-2         [-1, 384, 7, 7, 7]               0\n",
      "   ConvTranspose3d-3      [-1, 192, 15, 21, 21]       1,990,848\n",
      "              ReLU-4      [-1, 192, 15, 21, 21]               0\n",
      "   ConvTranspose3d-5      [-1, 192, 32, 64, 64]       2,359,488\n",
      "              ReLU-6      [-1, 192, 32, 64, 64]               0\n",
      "   ConvTranspose3d-7        [-1, 1, 32, 64, 64]             193\n",
      "================================================================\n",
      "Total params: 12,313,537\n",
      "Trainable params: 12,313,537\n",
      "Non-trainable params: 0\n",
      "----------------------------------------------------------------\n",
      "Input size (MB): 0.19\n",
      "Forward/backward pass size (MB): 406.39\n",
      "Params size (MB): 46.97\n",
      "Estimated Total Size (MB): 453.55\n",
      "----------------------------------------------------------------\n"
     ]
    }
   ],
   "source": [
    "summary(model, (768, 4, 4, 4))"
   ]
  },
  {
   "cell_type": "markdown",
   "metadata": {},
   "source": [
    "---"
   ]
  },
  {
   "cell_type": "code",
   "execution_count": 6,
   "metadata": {},
   "outputs": [],
   "source": [
    "in_dim = 768\n",
    "model = nn.Sequential(\n",
    "            nn.ConvTranspose3d(in_dim, 256, kernel_size=(3,3,3), stride=(2,2,2), padding=(1,1,1)),\n",
    "            nn.ReLU(),\n",
    "            nn.ConvTranspose3d(256, 128, kernel_size=(3,3,3), stride=(2,3,3), padding=(0,0,0)),\n",
    "            nn.ReLU(),\n",
    "            nn.ConvTranspose3d(128, 128, kernel_size=(3,4,4), stride=(2,3,3), padding=(1,0,0)),\n",
    "            nn.ReLU(),\n",
    "            nn.ConvTranspose3d(128, 1, kernel_size=(1,1,1))\n",
    "        )"
   ]
  },
  {
   "cell_type": "code",
   "execution_count": 7,
   "metadata": {},
   "outputs": [
    {
     "name": "stdout",
     "output_type": "stream",
     "text": [
      "----------------------------------------------------------------\n",
      "        Layer (type)               Output Shape         Param #\n",
      "================================================================\n",
      "   ConvTranspose3d-1         [-1, 256, 5, 7, 7]       5,308,672\n",
      "              ReLU-2         [-1, 256, 5, 7, 7]               0\n",
      "   ConvTranspose3d-3      [-1, 128, 11, 21, 21]         884,864\n",
      "              ReLU-4      [-1, 128, 11, 21, 21]               0\n",
      "   ConvTranspose3d-5      [-1, 128, 21, 64, 64]         786,560\n",
      "              ReLU-6      [-1, 128, 21, 64, 64]               0\n",
      "   ConvTranspose3d-7        [-1, 1, 21, 64, 64]             129\n",
      "================================================================\n",
      "Total params: 6,980,225\n",
      "Trainable params: 6,980,225\n",
      "Non-trainable params: 0\n",
      "----------------------------------------------------------------\n",
      "Input size (MB): 0.14\n",
      "Forward/backward pass size (MB): 179.09\n",
      "Params size (MB): 26.63\n",
      "Estimated Total Size (MB): 205.86\n",
      "----------------------------------------------------------------\n"
     ]
    }
   ],
   "source": [
    "summary(model, (768, 3, 4, 4))"
   ]
  },
  {
   "cell_type": "code",
   "execution_count": null,
   "metadata": {},
   "outputs": [],
   "source": []
  }
 ],
 "metadata": {
  "kernelspec": {
   "display_name": "nuplan",
   "language": "python",
   "name": "python3"
  },
  "language_info": {
   "codemirror_mode": {
    "name": "ipython",
    "version": 3
   },
   "file_extension": ".py",
   "mimetype": "text/x-python",
   "name": "python",
   "nbconvert_exporter": "python",
   "pygments_lexer": "ipython3",
   "version": "3.9.16"
  },
  "orig_nbformat": 4
 },
 "nbformat": 4,
 "nbformat_minor": 2
}
