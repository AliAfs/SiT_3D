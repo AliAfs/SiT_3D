{
 "cells": [
  {
   "cell_type": "code",
   "execution_count": 2,
   "metadata": {},
   "outputs": [],
   "source": [
    "from torch import nn\n",
    "from torchsummary import summary"
   ]
  },
  {
   "cell_type": "code",
   "execution_count": 3,
   "metadata": {},
   "outputs": [],
   "source": [
    "model = nn.Sequential(\n",
    "    nn.ConvTranspose3d(768, 64, kernel_size=(3,3,3), stride=(2,2,2), padding=(2,0,0)),\n",
    "    nn.ReLU(),\n",
    "    nn.ConvTranspose3d(64, 32, kernel_size=(5,5,5), stride=(2,2,2), padding=(2,0,0)),\n",
    "    nn.ReLU(),\n",
    "    nn.ConvTranspose3d(32, 1, kernel_size=(1,6,6), stride=(1,3,3), padding=(0,1,1))\n",
    ")"
   ]
  },
  {
   "cell_type": "code",
   "execution_count": 5,
   "metadata": {},
   "outputs": [
    {
     "name": "stdout",
     "output_type": "stream",
     "text": [
      "----------------------------------------------------------------\n",
      "        Layer (type)               Output Shape         Param #\n",
      "================================================================\n",
      "   ConvTranspose3d-1         [-1, 64, 11, 9, 9]       1,327,168\n",
      "              ReLU-2         [-1, 64, 11, 9, 9]               0\n",
      "   ConvTranspose3d-3       [-1, 32, 21, 21, 21]         256,032\n",
      "              ReLU-4       [-1, 32, 21, 21, 21]               0\n",
      "   ConvTranspose3d-5        [-1, 1, 21, 64, 64]           1,153\n",
      "================================================================\n",
      "Total params: 1,584,353\n",
      "Trainable params: 1,584,353\n",
      "Non-trainable params: 0\n",
      "----------------------------------------------------------------\n",
      "Input size (MB): 0.33\n",
      "Forward/backward pass size (MB): 6.05\n",
      "Params size (MB): 6.04\n",
      "Estimated Total Size (MB): 12.42\n",
      "----------------------------------------------------------------\n"
     ]
    }
   ],
   "source": [
    "summary(model, (768, 7, 4, 4))"
   ]
  },
  {
   "cell_type": "code",
   "execution_count": 6,
   "metadata": {},
   "outputs": [],
   "source": [
    "model = nn.Sequential(\n",
    "            nn.ConvTranspose3d(768, 256, kernel_size=(3,3,3), stride=(2,2,2), padding=(2,1,1)),\n",
    "            nn.ReLU(),\n",
    "            nn.ConvTranspose3d(256, 128, kernel_size=(3,3,3), stride=(2,3,3), padding=(1,0,0)),\n",
    "            nn.ReLU(),\n",
    "            nn.ConvTranspose3d(128, 1, kernel_size=(1,4,4), stride=(1,3,3), padding=(0,0,0))\n",
    "        )"
   ]
  },
  {
   "cell_type": "code",
   "execution_count": 7,
   "metadata": {},
   "outputs": [
    {
     "name": "stdout",
     "output_type": "stream",
     "text": [
      "----------------------------------------------------------------\n",
      "        Layer (type)               Output Shape         Param #\n",
      "================================================================\n",
      "   ConvTranspose3d-1        [-1, 256, 11, 7, 7]       5,308,672\n",
      "              ReLU-2        [-1, 256, 11, 7, 7]               0\n",
      "   ConvTranspose3d-3      [-1, 128, 21, 21, 21]         884,864\n",
      "              ReLU-4      [-1, 128, 21, 21, 21]               0\n",
      "   ConvTranspose3d-5        [-1, 1, 21, 64, 64]           2,049\n",
      "================================================================\n",
      "Total params: 6,195,585\n",
      "Trainable params: 6,195,585\n",
      "Non-trainable params: 0\n",
      "----------------------------------------------------------------\n",
      "Input size (MB): 0.33\n",
      "Forward/backward pass size (MB): 20.85\n",
      "Params size (MB): 23.63\n",
      "Estimated Total Size (MB): 44.81\n",
      "----------------------------------------------------------------\n"
     ]
    }
   ],
   "source": [
    "summary(model, (768, 7, 4, 4))"
   ]
  },
  {
   "cell_type": "code",
   "execution_count": null,
   "metadata": {},
   "outputs": [],
   "source": []
  }
 ],
 "metadata": {
  "kernelspec": {
   "display_name": "nuplan",
   "language": "python",
   "name": "python3"
  },
  "language_info": {
   "codemirror_mode": {
    "name": "ipython",
    "version": 3
   },
   "file_extension": ".py",
   "mimetype": "text/x-python",
   "name": "python",
   "nbconvert_exporter": "python",
   "pygments_lexer": "ipython3",
   "version": "3.9.16"
  },
  "orig_nbformat": 4
 },
 "nbformat": 4,
 "nbformat_minor": 2
}
